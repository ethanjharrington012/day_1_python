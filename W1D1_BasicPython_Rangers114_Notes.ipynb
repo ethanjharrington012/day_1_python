{
 "cells": [
  {
   "cell_type": "markdown",
   "metadata": {},
   "source": [
    "# Week 2 - Monday Lesson (variable assignment, loops, lists)"
   ]
  },
  {
   "cell_type": "markdown",
   "metadata": {},
   "source": [
    "## Tasks Today:\n",
    "\n",
    "1) Int & Float assignments <br>\n",
    " &nbsp;&nbsp;&nbsp;&nbsp; a) Assigning int <br>\n",
    " &nbsp;&nbsp;&nbsp;&nbsp; b) Assigning float <br>\n",
    " &nbsp;&nbsp;&nbsp;&nbsp; c) Performing Calculations on ints and floats <br>\n",
    " &nbsp;&nbsp;&nbsp;&nbsp;&nbsp;&nbsp;&nbsp;&nbsp; - Addition <br>\n",
    " &nbsp;&nbsp;&nbsp;&nbsp;&nbsp;&nbsp;&nbsp;&nbsp; - Subtraction <br>\n",
    " &nbsp;&nbsp;&nbsp;&nbsp;&nbsp;&nbsp;&nbsp;&nbsp; - Multiplication <br>\n",
    " &nbsp;&nbsp;&nbsp;&nbsp;&nbsp;&nbsp;&nbsp;&nbsp; - Division <br>\n",
    " &nbsp;&nbsp;&nbsp;&nbsp;&nbsp;&nbsp;&nbsp;&nbsp; - Floor Division <br>\n",
    " &nbsp;&nbsp;&nbsp;&nbsp;&nbsp;&nbsp;&nbsp;&nbsp; - Modulo <br>\n",
    " &nbsp;&nbsp;&nbsp;&nbsp;&nbsp;&nbsp;&nbsp;&nbsp; - Exponential <br>\n",
    "2) String Input-Output <br>\n",
    " &nbsp;&nbsp;&nbsp;&nbsp; a) String Assignment <br>\n",
    " &nbsp;&nbsp;&nbsp;&nbsp; b) print() <br>\n",
    " &nbsp;&nbsp;&nbsp;&nbsp; c) String Concatenation <br>\n",
    " &nbsp;&nbsp;&nbsp;&nbsp; d) Type Conversion <br>\n",
    " &nbsp;&nbsp;&nbsp;&nbsp; e) input() <br>\n",
    " &nbsp;&nbsp;&nbsp;&nbsp; f) format() <br>\n",
    " &nbsp;&nbsp;&nbsp;&nbsp; g) Old Way (python 2) <br>\n",
    "3) <b>In-Class Exercise #1</b> <br>\n",
    "4) If Statements <br>\n",
    " &nbsp;&nbsp;&nbsp;&nbsp; a) 'is' keyword <br>\n",
    " &nbsp;&nbsp;&nbsp;&nbsp; b) 'in' keyword <br>\n",
    " &nbsp;&nbsp;&nbsp;&nbsp; c) 'not in' keyword <br>\n",
    "5) <b>In-Class Exercise #2</b> <br>\n",
    "6) Elif Statements <br>\n",
    "7) Else Statements <br>\n",
    "8) <b>In-Class Exercise #3</b> <br>\n",
    "9) Built-In Functions <br>\n",
    "\n",
    " &nbsp;&nbsp;&nbsp;&nbsp; b) len() <br>\n",
    " &nbsp;&nbsp;&nbsp;&nbsp; c) help() <br>\n",
    " &nbsp;&nbsp;&nbsp;&nbsp; d) isinstance() <br>\n",
    " &nbsp;&nbsp;&nbsp;&nbsp; e) abs() <br>\n",
    "10) Try and Except <br>\n"
   ]
  },
  {
   "cell_type": "markdown",
   "metadata": {},
   "source": [
    "### Int & Float Assignments"
   ]
  },
  {
   "cell_type": "markdown",
   "metadata": {},
   "source": [
    "##### Assigning int"
   ]
  },
  {
   "cell_type": "code",
   "execution_count": 6,
   "metadata": {},
   "outputs": [
    {
     "name": "stdout",
     "output_type": "stream",
     "text": [
      "8\n",
      "100\n"
     ]
    }
   ],
   "source": [
    "number = 8\n",
    "print(number)\n",
    "whatever = 100\n",
    "print(whatever)"
   ]
  },
  {
   "cell_type": "markdown",
   "metadata": {},
   "source": [
    "##### Assigning float"
   ]
  },
  {
   "cell_type": "code",
   "execution_count": 9,
   "metadata": {},
   "outputs": [
    {
     "name": "stdout",
     "output_type": "stream",
     "text": [
      "3.14\n",
      "4.3456425\n"
     ]
    }
   ],
   "source": [
    "# comments out a line\n",
    "# float -- decimal\n",
    "num_float = 3.14\n",
    "print(num_float)\n",
    "\n",
    "num_float_2 = 4.3456425\n",
    "print(num_float_2)\n"
   ]
  },
  {
   "cell_type": "markdown",
   "metadata": {},
   "source": [
    "#### Performing Calculations on ints and floats"
   ]
  },
  {
   "cell_type": "markdown",
   "metadata": {},
   "source": [
    "##### Addition"
   ]
  },
  {
   "cell_type": "code",
   "execution_count": 11,
   "metadata": {},
   "outputs": [
    {
     "name": "stdout",
     "output_type": "stream",
     "text": [
      "18\n"
     ]
    }
   ],
   "source": [
    "num1 = 3\n",
    "num2 = 15\n",
    "\n",
    "print( num1 + num2)"
   ]
  },
  {
   "cell_type": "markdown",
   "metadata": {},
   "source": [
    "##### Subtraction"
   ]
  },
  {
   "cell_type": "code",
   "execution_count": 12,
   "metadata": {},
   "outputs": [
    {
     "name": "stdout",
     "output_type": "stream",
     "text": [
      "13\n",
      "13\n"
     ]
    }
   ],
   "source": [
    "num3 = 15\n",
    "num4 = 2\n",
    "\n",
    "print(num3 - num4)\n",
    "\n",
    "result = num3 - num4\n",
    "print(result)\n"
   ]
  },
  {
   "cell_type": "markdown",
   "metadata": {},
   "source": [
    "##### Multiplication"
   ]
  },
  {
   "cell_type": "code",
   "execution_count": 15,
   "metadata": {},
   "outputs": [
    {
     "name": "stdout",
     "output_type": "stream",
     "text": [
      "47.0\n",
      "2209.0\n"
     ]
    }
   ],
   "source": [
    "num1 = 10\n",
    "num2 = 4.7\n",
    "\n",
    "product = num1 * num2\n",
    "print(product)\n",
    "\n",
    "product **= 2\n",
    "print(product)"
   ]
  },
  {
   "cell_type": "markdown",
   "metadata": {},
   "source": [
    "##### Division"
   ]
  },
  {
   "cell_type": "code",
   "execution_count": 17,
   "metadata": {},
   "outputs": [
    {
     "name": "stdout",
     "output_type": "stream",
     "text": [
      "5.0\n"
     ]
    }
   ],
   "source": [
    "num1 = 45\n",
    "num2 = 9\n",
    "\n",
    "quotient = num1 / num2\n",
    "\n",
    "print(quotient)"
   ]
  },
  {
   "cell_type": "code",
   "execution_count": 18,
   "metadata": {},
   "outputs": [
    {
     "name": "stdout",
     "output_type": "stream",
     "text": [
      "15.0\n"
     ]
    }
   ],
   "source": [
    "num1 = 45\n",
    "num1 /= 3\n",
    "print(num1)"
   ]
  },
  {
   "cell_type": "markdown",
   "metadata": {},
   "source": [
    "##### Floor Division"
   ]
  },
  {
   "cell_type": "code",
   "execution_count": 19,
   "metadata": {},
   "outputs": [
    {
     "name": "stdout",
     "output_type": "stream",
     "text": [
      "2\n"
     ]
    }
   ],
   "source": [
    "num1 = 5\n",
    "num2 = 2\n",
    "\n",
    "# floor // rounds to the nearest whole number!\n",
    "# important for higher level python\n",
    "# good for getting half a list, or getting a length\n",
    "\n",
    "floored = num1//num2\n",
    "print(floored)\n"
   ]
  },
  {
   "cell_type": "code",
   "execution_count": 20,
   "metadata": {},
   "outputs": [
    {
     "name": "stdout",
     "output_type": "stream",
     "text": [
      "2.5\n"
     ]
    }
   ],
   "source": [
    "num1 = 5\n",
    "num2 = 2\n",
    "\n",
    "floored = num1/num2\n",
    "print(floored)"
   ]
  },
  {
   "cell_type": "markdown",
   "metadata": {},
   "source": [
    "##### Modulo"
   ]
  },
  {
   "cell_type": "code",
   "execution_count": 21,
   "metadata": {},
   "outputs": [
    {
     "name": "stdout",
     "output_type": "stream",
     "text": [
      "even\n"
     ]
    }
   ],
   "source": [
    "# next most populer\n",
    "# remainder, good for checking if something is even\n",
    "\n",
    "num1 = 6\n",
    "if num1 % 2==0:\n",
    "    print(\"even\")\n",
    "else:\n",
    "    print(\"odd\")"
   ]
  },
  {
   "cell_type": "code",
   "execution_count": 23,
   "metadata": {},
   "outputs": [
    {
     "name": "stdout",
     "output_type": "stream",
     "text": [
      "1\n",
      "1\n"
     ]
    }
   ],
   "source": [
    "num1 = 5\n",
    "num2 = 2\n",
    "result = num1 % num2\n",
    "print(result)\n",
    "\n",
    "num1 %= num2\n",
    "print(num1)"
   ]
  },
  {
   "cell_type": "code",
   "execution_count": 24,
   "metadata": {},
   "outputs": [
    {
     "name": "stdout",
     "output_type": "stream",
     "text": [
      "10\n"
     ]
    }
   ],
   "source": [
    "num1 = 100\n",
    "num2 = 15\n",
    "\n",
    "result = num1 % num2\n",
    "print(result)\n"
   ]
  },
  {
   "cell_type": "code",
   "execution_count": 26,
   "metadata": {},
   "outputs": [
    {
     "name": "stdout",
     "output_type": "stream",
     "text": [
      "125\n"
     ]
    }
   ],
   "source": [
    "# Exponentials\n",
    "\n",
    "square = 5**3\n",
    "print(square)"
   ]
  },
  {
   "cell_type": "code",
   "execution_count": 29,
   "metadata": {},
   "outputs": [
    {
     "name": "stdout",
     "output_type": "stream",
     "text": [
      "27\n",
      "19683\n"
     ]
    }
   ],
   "source": [
    "cubed = 3**3\n",
    "print(cubed)\n",
    "\n",
    "cubed**=3\n",
    "print(cubed)"
   ]
  },
  {
   "cell_type": "markdown",
   "metadata": {},
   "source": [
    "### String Input-Output"
   ]
  },
  {
   "cell_type": "markdown",
   "metadata": {},
   "source": [
    "##### String Assignment"
   ]
  },
  {
   "cell_type": "code",
   "execution_count": 31,
   "metadata": {},
   "outputs": [
    {
     "name": "stdout",
     "output_type": "stream",
     "text": [
      "poodle\n",
      "Ethan\n"
     ]
    }
   ],
   "source": [
    "name = \"Ethan\"\n",
    "\n",
    "dog = \"poodle\"\n",
    "\n",
    "print(dog)\n",
    "print(name)"
   ]
  },
  {
   "cell_type": "markdown",
   "metadata": {},
   "source": [
    "##### print() <br>\n",
    "<p>Don't forget about end=' '</p>"
   ]
  },
  {
   "cell_type": "code",
   "execution_count": 35,
   "metadata": {},
   "outputs": [
    {
     "name": "stdout",
     "output_type": "stream",
     "text": [
      "hello Ethan\n",
      "full name:  EthanHarington"
     ]
    }
   ],
   "source": [
    "print(\"hello\", name)\n",
    "print(\"full name: \", name, end=\"Harington\")"
   ]
  },
  {
   "cell_type": "markdown",
   "metadata": {},
   "source": [
    "##### String Concatenation"
   ]
  },
  {
   "cell_type": "code",
   "execution_count": 40,
   "metadata": {},
   "outputs": [
    {
     "name": "stdout",
     "output_type": "stream",
     "text": [
      "Ethan harr \n",
      "this is my first name: Ethan and this is my last harr !\n"
     ]
    }
   ],
   "source": [
    "# taking two strings and adding them together!\n",
    "\n",
    "first = 'Ethan'\n",
    "\n",
    "last = 'harr '\n",
    "full = first + \" \" +last\n",
    "print(full)\n",
    "print(f\"this is my first name: {first} and this is my last {last}!\")"
   ]
  },
  {
   "cell_type": "code",
   "execution_count": 42,
   "metadata": {},
   "outputs": [
    {
     "name": "stdout",
     "output_type": "stream",
     "text": [
      "I have a dog. His name is yes\n",
      "I have a dog. His name is yes isnt that awsome!\n"
     ]
    }
   ],
   "source": [
    "my_string = \"I have a dog. His name is\"\n",
    "dog_name = 'yes'\n",
    "\n",
    "dog_sentance = my_string + \" \"+dog_name\n",
    "print(dog_sentance)\n",
    "\n",
    "dog_sentance += (\" \"+ \"isnt that awsome!\")\n",
    "print(dog_sentance)"
   ]
  },
  {
   "cell_type": "markdown",
   "metadata": {},
   "source": [
    "##### Type Conversion"
   ]
  },
  {
   "cell_type": "code",
   "execution_count": null,
   "metadata": {},
   "outputs": [],
   "source": [
    "# int() - converts type into tineger type\n",
    "# float() - convert to float type\n",
    "# str() - convert to string type\n",
    "\n",
    "x = 12\n",
    "\n",
    "name = \"Ethan\"\n",
    "\n",
    "num_str = \"15\"\n",
    "\n",
    "y = 1.45\n",
    "\n"
   ]
  },
  {
   "cell_type": "markdown",
   "metadata": {},
   "source": [
    "##### input()"
   ]
  },
  {
   "cell_type": "code",
   "execution_count": 43,
   "metadata": {},
   "outputs": [
    {
     "name": "stdout",
     "output_type": "stream",
     "text": [
      "how old are you21\n",
      "Your age is  21\n"
     ]
    }
   ],
   "source": [
    "# input will always return a string.\n",
    "age = int(input(\"how old are you\"))\n",
    "print(\"Your age is \", age)"
   ]
  },
  {
   "cell_type": "code",
   "execution_count": 45,
   "metadata": {},
   "outputs": [
    {
     "name": "stdout",
     "output_type": "stream",
     "text": [
      "What is your name? ethan\n",
      "Your name is  ethan\n",
      "What is your quest, yes\n",
      "Your quest is  yes\n",
      "What is your fav color? blue\n",
      "Your fav color is  blue\n"
     ]
    }
   ],
   "source": [
    "name = input(\"What is your name? \")\n",
    "print(\"Your name is \", name)\n",
    "\n",
    "quest = input(\"What is your quest, \")\n",
    "print(\"Your quest is \", quest)\n",
    "\n",
    "color = input(\"What is your fav color? \")\n",
    "print(\"Your fav color is \", color)\n",
    "\n"
   ]
  },
  {
   "cell_type": "markdown",
   "metadata": {},
   "source": [
    "##### format()"
   ]
  },
  {
   "cell_type": "code",
   "execution_count": 46,
   "metadata": {},
   "outputs": [
    {
     "name": "stdout",
     "output_type": "stream",
     "text": [
      "How old are you?21\n",
      "What is your name?ethan\n",
      "You are 21 years old, ethan and you are getting wiser!\n"
     ]
    }
   ],
   "source": [
    "age = int(input(\"How old are you?\"))\n",
    "name = input(\"What is your name?\")\n",
    "\n",
    "result = \"You are {} years old, {} and you are getting wiser!\".format(age,name)\n",
    "\n",
    "print(result)\n",
    "\n",
    "result_again = f\"{age} is a great time in life!\"\n",
    "print(result_again)"
   ]
  },
  {
   "cell_type": "markdown",
   "metadata": {},
   "source": [
    "##### Old Way (python 2)"
   ]
  },
  {
   "cell_type": "code",
   "execution_count": 47,
   "metadata": {},
   "outputs": [
    {
     "name": "stdout",
     "output_type": "stream",
     "text": [
      "You are 21 and you look great for your age!\n"
     ]
    }
   ],
   "source": [
    "# this way sucks!!\n",
    "\n",
    "result_string = \"You are %s and you look great for your age!\" %age\n",
    "print(result_string)"
   ]
  },
  {
   "cell_type": "markdown",
   "metadata": {},
   "source": [
    "# In-Class Exercise 1 <br>\n",
    "<p>Create a format statement that asks for a car's color, year, make, model and prints out the results</p>"
   ]
  },
  {
   "cell_type": "code",
   "execution_count": 50,
   "metadata": {},
   "outputs": [
    {
     "name": "stdout",
     "output_type": "stream",
     "text": [
      "What is the color of your car? You silly goose Blue\n",
      "sick Blue is a okay color..\n",
      "what year is your car?1998\n",
      "okay 1998 is a bit old\n",
      "What make is your carhonda\n",
      "honda now thats a good brand\n",
      "What model is your car?civic\n",
      "cool civic is a model for that brand.\n"
     ]
    }
   ],
   "source": [
    "car_color = input(\"What is the color of your car? You silly goose \")\n",
    "print(f\"sick {car_color} is a okay color..\")\n",
    "\n",
    "car_year = int(input(\"what year is your car?\"))\n",
    "print(f\"okay {car_year} is a bit old\")\n",
    "\n",
    "car_make = input(\"What make is your car\")\n",
    "print(f\"{car_make} now thats a good brand\")\n",
    "\n",
    "car_model = input(\"What model is your car?\")\n",
    "print(f\"cool {car_model} is a model for that brand.\")\n"
   ]
  },
  {
   "cell_type": "code",
   "execution_count": null,
   "metadata": {},
   "outputs": [],
   "source": []
  },
  {
   "cell_type": "code",
   "execution_count": null,
   "metadata": {},
   "outputs": [],
   "source": []
  },
  {
   "cell_type": "markdown",
   "metadata": {},
   "source": [
    "### If Statements"
   ]
  },
  {
   "cell_type": "code",
   "execution_count": 57,
   "metadata": {},
   "outputs": [
    {
     "name": "stdout",
     "output_type": "stream",
     "text": [
      "Equal values\n"
     ]
    }
   ],
   "source": [
    "#  oporater Less than <, Greater than >, Equal too ==, Not equal too !=\n",
    "# Less then or Equal <=, Greater than or equal >=\n",
    "\n",
    "# Truth Tree\n",
    "# T && F = F\n",
    "# T && T = T\n",
    "# T|| F = T\n",
    "# F|| T = T\n",
    "# F || F = F\n",
    "\n",
    "num1 = 6\n",
    "num2 = 6\n",
    "\n",
    "# if\n",
    "# elif\n",
    "# else\n",
    "\n",
    "# we wanna put the equation with multipul constrants early in the if, loops\n",
    "\n",
    "if num2 == num1 and num1 == 6:\n",
    "    print(\"Equal values\")\n",
    "elif num2 == 7:\n",
    "    print(\"Equal to seven\")\n",
    "elif num1 == num2:\n",
    "    print(\"equal values\")\n",
    "else:\n",
    "    print(\"Not available\")"
   ]
  },
  {
   "cell_type": "markdown",
   "metadata": {},
   "source": [
    "##### 'is' keyword"
   ]
  },
  {
   "cell_type": "code",
   "execution_count": 59,
   "metadata": {
    "scrolled": true
   },
   "outputs": [
    {
     "name": "stdout",
     "output_type": "stream",
     "text": [
      "Yes sir\n",
      "Oh wow\n"
     ]
    }
   ],
   "source": [
    "# won't use as much as ==\n",
    "# check for same/similar objects (location)\n",
    "# == is for checking if two things are the same value\n",
    "\n",
    "num3 = 90\n",
    "\n",
    "if num3 == 90:\n",
    "    print(\"Yes sir\")\n",
    "# if num3 is 90:\n",
    "#     print(\"Again yes sir\") this gives us a Warning, working with literal\n",
    "\n",
    "num4 = num3\n",
    "if num4 is num3:\n",
    "    print(\"Oh wow\")\n",
    "\n",
    "\n",
    "\n"
   ]
  },
  {
   "cell_type": "code",
   "execution_count": null,
   "metadata": {},
   "outputs": [],
   "source": []
  },
  {
   "cell_type": "markdown",
   "metadata": {},
   "source": [
    "##### 'in' keyword"
   ]
  },
  {
   "cell_type": "code",
   "execution_count": 62,
   "metadata": {},
   "outputs": [
    {
     "name": "stdout",
     "output_type": "stream",
     "text": [
      "Fuck\n"
     ]
    }
   ],
   "source": [
    "# check is a charactor is in a string\n",
    "char_name = \"Boa Fett\"\n",
    "if \"b\" in char_name:\n",
    "    print(\"Amzazing\")\n",
    "else:\n",
    "    print(\"Fuck\")"
   ]
  },
  {
   "cell_type": "markdown",
   "metadata": {},
   "source": [
    "##### 'not in' keyword'"
   ]
  },
  {
   "cell_type": "code",
   "execution_count": 63,
   "metadata": {},
   "outputs": [
    {
     "name": "stdout",
     "output_type": "stream",
     "text": [
      "It's here\n"
     ]
    }
   ],
   "source": [
    "if \"f\" in char_name.lower():\n",
    "    print(\"It's here\")\n",
    "else:\n",
    "    print(\"Not here\")\n",
    "    "
   ]
  },
  {
   "cell_type": "code",
   "execution_count": 65,
   "metadata": {},
   "outputs": [],
   "source": [
    "name = \"Ethan\"\n",
    "if 'y' in name:\n",
    "    print(\"Yay\")"
   ]
  },
  {
   "cell_type": "code",
   "execution_count": 67,
   "metadata": {},
   "outputs": [
    {
     "name": "stdout",
     "output_type": "stream",
     "text": [
      "This in not Sanaac\n"
     ]
    }
   ],
   "source": [
    "seg_char = \"Sonic\"\n",
    "seg_char2 = \"Sanic\"\n",
    "\n",
    "if \"a\" not in seg_char.lower:\n",
    "    print(\"This in not Sanaac\")\n",
    "else:\n",
    "    print(\"This is sanic\")\n",
    "    "
   ]
  },
  {
   "cell_type": "code",
   "execution_count": null,
   "metadata": {},
   "outputs": [],
   "source": []
  },
  {
   "cell_type": "markdown",
   "metadata": {},
   "source": [
    "# In-Class Exercise 2 <br>\n",
    "<p>Ask user for input, check to see if the letter 'p' is in the input</p>\n",
    "<p>Check for case sensitivity</p>\n"
   ]
  },
  {
   "cell_type": "code",
   "execution_count": 69,
   "metadata": {},
   "outputs": [
    {
     "name": "stdout",
     "output_type": "stream",
     "text": [
      "Give me a word: loyal\n",
      "Damn, no (P) in this word.\n"
     ]
    }
   ],
   "source": [
    "word = input(\"Give me a word: \")\n",
    "\n",
    "if \"p\" in word.lower():\n",
    "    print(\"Yep theres a (p) in that word!\")\n",
    "else:\n",
    "    print(\"Damn, no (P) in this word.\")\n",
    "    "
   ]
  },
  {
   "cell_type": "code",
   "execution_count": null,
   "metadata": {},
   "outputs": [],
   "source": []
  },
  {
   "cell_type": "code",
   "execution_count": null,
   "metadata": {},
   "outputs": [],
   "source": []
  },
  {
   "cell_type": "code",
   "execution_count": null,
   "metadata": {},
   "outputs": [],
   "source": []
  },
  {
   "cell_type": "code",
   "execution_count": null,
   "metadata": {},
   "outputs": [],
   "source": []
  },
  {
   "cell_type": "code",
   "execution_count": null,
   "metadata": {},
   "outputs": [],
   "source": []
  },
  {
   "cell_type": "code",
   "execution_count": null,
   "metadata": {},
   "outputs": [],
   "source": []
  },
  {
   "cell_type": "code",
   "execution_count": null,
   "metadata": {},
   "outputs": [],
   "source": []
  },
  {
   "cell_type": "markdown",
   "metadata": {},
   "source": [
    "## Using 'and'/'or' with If Statements"
   ]
  },
  {
   "cell_type": "code",
   "execution_count": 76,
   "metadata": {},
   "outputs": [
    {
     "name": "stdout",
     "output_type": "stream",
     "text": [
      "True and True\n",
      "True and False\n"
     ]
    }
   ],
   "source": [
    "# Truth Tree\n",
    "# T && F = F\n",
    "# T && T = T\n",
    "# T|| F = T\n",
    "# F|| T = T\n",
    "# F || F = F\n",
    "\n",
    "# if with and statment\n",
    "\n",
    "num1 = 15\n",
    "num2 = 3\n",
    "num3 = 10\n",
    "num4 = 3\n",
    "\n",
    "if num1 / 5 == num2 and num3 - 7 == num4:\n",
    "    print(\"True and True\")\n",
    "else:\n",
    "    print(\"One of these are False\")\n",
    "    \n",
    "# if with or statement\n",
    "#  Only one needs to come back as True for it to be True\n",
    "\n",
    "if num1 > num2 or num3 == num4:\n",
    "    print(\"True and False\")\n",
    "else:\n",
    "    print(\"Both of these Statements are False\")\n",
    "    \n",
    "    \n",
    "    "
   ]
  },
  {
   "cell_type": "markdown",
   "metadata": {},
   "source": [
    "### Elif Statements"
   ]
  },
  {
   "cell_type": "code",
   "execution_count": 78,
   "metadata": {},
   "outputs": [
    {
     "name": "stdout",
     "output_type": "stream",
     "text": [
      "Thats is thirteen\n",
      "Thats the name Im looking for\n"
     ]
    }
   ],
   "source": [
    "#  if condistion 1\n",
    "#  elif condition 2\n",
    "# elif condition 3\n",
    "# else (all other conditions)\n",
    "\n",
    "num = 13\n",
    "if num == 13:\n",
    "    print(\"Thats is thirteen\")\n",
    "elif num % 3 == 0:\n",
    "    print(\"That is didvisable by 3\")\n",
    "    \n",
    "first_name = \"Alex\"\n",
    "\n",
    "if first_name == \"Smith\":\n",
    "    print(\"Thats a first name thats weird\")\n",
    "elif first_name == \"Max \":\n",
    "    print(\"Ah yes, Max\")\n",
    "elif first_name == \"Alex\":\n",
    "    print(\"Thats the name Im looking for\")\n",
    "else:\n",
    "    print(\"Don't care\")"
   ]
  },
  {
   "cell_type": "markdown",
   "metadata": {},
   "source": [
    "### Else Statements"
   ]
  },
  {
   "cell_type": "code",
   "execution_count": 80,
   "metadata": {},
   "outputs": [
    {
     "name": "stdout",
     "output_type": "stream",
     "text": [
      "the number is not 20 or 15 its 112!\n"
     ]
    }
   ],
   "source": [
    "# else is accounting for any other case that isnt true for any of the ifs/elifs\n",
    "\n",
    "number = 112\n",
    "if number == 20:\n",
    "    print(number)\n",
    "if number == 15:\n",
    "    print(number)\n",
    "else:\n",
    "    print(f\"the number is not 20 or 15 its {number}!\")\n",
    "        "
   ]
  },
  {
   "cell_type": "markdown",
   "metadata": {},
   "source": [
    "### String Manipulation"
   ]
  },
  {
   "cell_type": "markdown",
   "metadata": {},
   "source": [
    "#### .lstrip()"
   ]
  },
  {
   "cell_type": "code",
   "execution_count": 83,
   "metadata": {},
   "outputs": [
    {
     "name": "stdout",
     "output_type": "stream",
     "text": [
      " Lando Calriso\n",
      "Lando Calriso\n"
     ]
    }
   ],
   "source": [
    "#  our string.lstrip()  removes white space from Left side\n",
    "name = \" Lando Calriso\"\n",
    "print(name)\n",
    "print(name.lstrip())"
   ]
  },
  {
   "cell_type": "markdown",
   "metadata": {},
   "source": [
    "#### .rstrip()"
   ]
  },
  {
   "cell_type": "code",
   "execution_count": 89,
   "metadata": {},
   "outputs": [
    {
     "name": "stdout",
     "output_type": "stream",
     "text": [
      "the Ethan.    \n",
      "the Ethan.\n"
     ]
    }
   ],
   "source": [
    "name2 = \"the Ethan.    \"\n",
    "print(name2)\n",
    "name2 = name2.rstrip()\n",
    "print(name2)\n"
   ]
  },
  {
   "cell_type": "markdown",
   "metadata": {},
   "source": [
    "#### .strip()"
   ]
  },
  {
   "cell_type": "code",
   "execution_count": 92,
   "metadata": {},
   "outputs": [
    {
     "name": "stdout",
     "output_type": "stream",
     "text": [
      "    Erthan H\n",
      "Erthan H\n",
      "name plaser:   ethan\n",
      "ethan\n"
     ]
    }
   ],
   "source": [
    "# our string.strip()\n",
    "\n",
    "name = \"    Erthan H\"\n",
    "print(name)\n",
    "print(name.strip())\n",
    "\n",
    "name = input(\"name plaser: \")\n",
    "print(name.strip())\n"
   ]
  },
  {
   "cell_type": "code",
   "execution_count": null,
   "metadata": {},
   "outputs": [],
   "source": [
    "name = input(\"what is your name: \")\n",
    "\n",
    "if name ==\" ethan \":\n",
    "    print(\"cool\")\n"
   ]
  },
  {
   "cell_type": "markdown",
   "metadata": {},
   "source": [
    "#### .title()"
   ]
  },
  {
   "cell_type": "code",
   "execution_count": 93,
   "metadata": {},
   "outputs": [
    {
     "name": "stdout",
     "output_type": "stream",
     "text": [
      "Silly Goose\n"
     ]
    }
   ],
   "source": [
    "# our string.title()\n",
    "name = \"silly goose\"\n",
    "print(name.title())\n"
   ]
  },
  {
   "cell_type": "markdown",
   "metadata": {},
   "source": [
    "#### .upper()"
   ]
  },
  {
   "cell_type": "code",
   "execution_count": 94,
   "metadata": {},
   "outputs": [
    {
     "name": "stdout",
     "output_type": "stream",
     "text": [
      "YES SIR OH MY\n"
     ]
    }
   ],
   "source": [
    "# our string.upper() makes everything uppercase\n",
    "name = 'yes sir oh my'\n",
    "print(name.upper())\n"
   ]
  },
  {
   "cell_type": "markdown",
   "metadata": {},
   "source": [
    "#### .lower()"
   ]
  },
  {
   "cell_type": "code",
   "execution_count": 95,
   "metadata": {
    "scrolled": true
   },
   "outputs": [
    {
     "name": "stdout",
     "output_type": "stream",
     "text": [
      "wow this is ysvde \n"
     ]
    }
   ],
   "source": [
    "# does the same but lower()\n",
    "string = \"wow this Is YSVDE \"\n",
    "print(string.lower())\n"
   ]
  },
  {
   "cell_type": "markdown",
   "metadata": {},
   "source": [
    "### String Exercise"
   ]
  },
  {
   "cell_type": "markdown",
   "metadata": {},
   "source": [
    "Have a user input a name. Return the name with all white space removed and each first letter capitalized."
   ]
  },
  {
   "cell_type": "code",
   "execution_count": 96,
   "metadata": {},
   "outputs": [
    {
     "name": "stdout",
     "output_type": "stream",
     "text": [
      "Please what is your name: ethan   \n",
      "Ethan\n"
     ]
    }
   ],
   "source": [
    "name_input = input(\"Please what is your name: \")\n",
    "\n",
    "print(name_input.strip().title())"
   ]
  },
  {
   "cell_type": "markdown",
   "metadata": {},
   "source": [
    "### Built-In Functions"
   ]
  },
  {
   "cell_type": "markdown",
   "metadata": {},
   "source": [
    "##### len()"
   ]
  },
  {
   "cell_type": "code",
   "execution_count": 97,
   "metadata": {},
   "outputs": [
    {
     "name": "stdout",
     "output_type": "stream",
     "text": [
      "3\n",
      "7\n"
     ]
    }
   ],
   "source": [
    "# works fo strings and lists\n",
    "# returns the length of a given variable as an intigfer\n",
    "\n",
    "name = \"MAX\"\n",
    "lenth_of_name = len(name)\n",
    "print(lenth_of_name)\n",
    "\n",
    "my_list = [1, 2, 3, 4, 5, 6, 7]\n",
    "\n",
    "print(len(my_list))\n"
   ]
  },
  {
   "cell_type": "markdown",
   "metadata": {},
   "source": [
    "##### help()"
   ]
  },
  {
   "cell_type": "code",
   "execution_count": 101,
   "metadata": {},
   "outputs": [
    {
     "name": "stdout",
     "output_type": "stream",
     "text": [
      "Help on built-in function max in module builtins:\n",
      "\n",
      "max(...)\n",
      "    max(iterable, *[, default=obj, key=func]) -> value\n",
      "    max(arg1, arg2, *args, *[, key=func]) -> value\n",
      "    \n",
      "    With a single iterable argument, return its biggest item. The\n",
      "    default keyword-only argument specifies an object to return if\n",
      "    the provided iterable is empty.\n",
      "    With two or more arguments, return the largest argument.\n",
      "\n"
     ]
    }
   ],
   "source": [
    "# gives a tooltip on a python built in function\n",
    "help(max)"
   ]
  },
  {
   "cell_type": "markdown",
   "metadata": {},
   "source": [
    "##### isinstance()"
   ]
  },
  {
   "cell_type": "code",
   "execution_count": 104,
   "metadata": {},
   "outputs": [
    {
     "name": "stdout",
     "output_type": "stream",
     "text": [
      "False\n",
      "This is a float\n",
      "How old are you: 21\n",
      "21\n"
     ]
    }
   ],
   "source": [
    "# checl a varibale to find out what Object Family( data Type ) it belongs too\n",
    "# isinstance(var, type)\n",
    "\n",
    "print(isinstance(4.5, int))\n",
    "\n",
    "if isinstance(4.5, float):\n",
    "    print(\"This is a float\")\n",
    "else:\n",
    "    print(\"Not a float\")\n",
    "    \n",
    "age = int(input(\"How old are you: \"))\n",
    "if isinstance(age, int):\n",
    "    print(age)\n",
    "else:\n",
    "    print(\"Not an ingeger\")\n",
    "    "
   ]
  },
  {
   "cell_type": "markdown",
   "metadata": {},
   "source": [
    "##### abs()"
   ]
  },
  {
   "cell_type": "code",
   "execution_count": null,
   "metadata": {},
   "outputs": [],
   "source": [
    "#  | 5 |\n",
    "# Gives us the distance to zero\n",
    "\n",
    "print(abs(5))\n",
    "\n",
    "print(abs(5-13*3))"
   ]
  },
  {
   "cell_type": "markdown",
   "metadata": {},
   "source": [
    "### Try and Except"
   ]
  },
  {
   "cell_type": "code",
   "execution_count": null,
   "metadata": {},
   "outputs": [],
   "source": [
    "# use this whenever you expext ancounter a bug so that the error doesnt cause the program to break!\n",
    "# logging graceful error messages to gently nudge ther user to the right direction\n",
    "\n",
    "try:\n",
    "    age = int(input(\"How old are you? \"))\n",
    "    print(f\"happy birthday you were {age} and now your {age+1 }\" )\n",
    "except:\n",
    "    print(\"Please enter a number not a text!\")"
   ]
  },
  {
   "cell_type": "code",
   "execution_count": null,
   "metadata": {},
   "outputs": [],
   "source": []
  },
  {
   "cell_type": "markdown",
   "metadata": {},
   "source": [
    "## Exercise #1 <br>\n",
    "<p>Accept two user ages as inputs and give us the difference between them. (The Answer should always be a positive output)</p>"
   ]
  },
  {
   "cell_type": "code",
   "execution_count": null,
   "metadata": {},
   "outputs": [],
   "source": [
    "# prints positive number ! and what I beleive to be the difference..\n",
    "\n",
    "num1 = int(input(\"Type in a number: \"))\n",
    "num2 = int(input(\"Type in another number: \"))\n",
    "\n",
    "print(abs(num1 % num2))\n",
    "\n",
    "\n"
   ]
  },
  {
   "cell_type": "markdown",
   "metadata": {},
   "source": [
    "## Exercise #2 \n",
    "<p>Accept 3 user inputs for variables named noun, verb and adjective. Print out a formatted string using the outputs.</p>"
   ]
  },
  {
   "cell_type": "code",
   "execution_count": null,
   "metadata": {},
   "outputs": [],
   "source": [
    "noun = input(\"Type in. noun for a super fun story!: \")\n",
    "verb = input(\"Great!, now type in a verb: \")\n",
    "adjective = input(\"Almost there!. all thats left is a adjective:\\n \")\n",
    "\n",
    "print(f\"\"\"\\nSam was a wild boy! one day he was going to see Kanya West...(Don't wory this was a couple years ago.) \n",
    "But when he was on his way to the awsome concert he noticed he had just {verb} all over {noun}!! he was {adjective} about it!\"\"\")"
   ]
  },
  {
   "cell_type": "markdown",
   "metadata": {},
   "source": [
    "## Exercise #3 <br>\n",
    "<p>Take in a users input for their age, if they are younger than 18 print kids, if they're 18 to 65 print adults, else print seniors</p>"
   ]
  },
  {
   "cell_type": "code",
   "execution_count": 5,
   "metadata": {},
   "outputs": [
    {
     "name": "stdout",
     "output_type": "stream",
     "text": [
      "Whats your age? 50\n",
      "Adults\n",
      "50\n"
     ]
    }
   ],
   "source": [
    "age = int(input(\"Whats your age? \"))\n",
    "if age < 18:\n",
    "    print(\"kids\")\n",
    "elif age > 18 and age < 65:\n",
    "    print(\"Adults\")\n",
    "else:\n",
    "    print(\"Seniors\")\n",
    "\n",
    "print(age)\n",
    "\n",
    "    "
   ]
  },
  {
   "cell_type": "markdown",
   "metadata": {},
   "source": [
    "## Exercise #4\n",
    "<p>Take in a number from a user input output the number squared.</p>"
   ]
  },
  {
   "cell_type": "code",
   "execution_count": 8,
   "metadata": {},
   "outputs": [
    {
     "name": "stdout",
     "output_type": "stream",
     "text": [
      "Type in a number: 5\n",
      "25\n"
     ]
    }
   ],
   "source": [
    "number = int(input(\"Type in a number: \"))\n",
    "print(number**2)"
   ]
  },
  {
   "cell_type": "markdown",
   "metadata": {},
   "source": [
    "## Exercise #5\n",
    "<p>Check the below variables' length. If the length of the word is greater than 5 output True, if it is less than 5, output False<p>\n"
   ]
  },
  {
   "cell_type": "code",
   "execution_count": null,
   "metadata": {},
   "outputs": [],
   "source": [
    "word1 = \"panini\"\n",
    "word2 = \"bulbasaur\"\n",
    "word3 = \"pie\"\n",
    "word4 = \"dolphin\"\n",
    "word5 = \"dog\"\n",
    "def word_length(word):\n",
    "    if len(word) > 5:\n",
    "        return True\n",
    "    else:\n",
    "        return False\n"
   ]
  }
 ],
 "metadata": {
  "kernelspec": {
   "display_name": "Python 3 (ipykernel)",
   "language": "python",
   "name": "python3"
  },
  "language_info": {
   "codemirror_mode": {
    "name": "ipython",
    "version": 3
   },
   "file_extension": ".py",
   "mimetype": "text/x-python",
   "name": "python",
   "nbconvert_exporter": "python",
   "pygments_lexer": "ipython3",
   "version": "3.9.7"
  }
 },
 "nbformat": 4,
 "nbformat_minor": 2
}
